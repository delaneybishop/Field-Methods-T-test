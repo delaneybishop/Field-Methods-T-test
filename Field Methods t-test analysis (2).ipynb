{
 "cells": [
  {
   "cell_type": "code",
   "execution_count": 1,
   "id": "f65816f1",
   "metadata": {},
   "outputs": [],
   "source": [
    "#import libraries below\n",
    "import numpy as np\n",
    "import pandas as pd\n",
    "import scipy.stats as stats\n",
    "import matplotlib.pyplot as plt"
   ]
  },
  {
   "cell_type": "code",
   "execution_count": 2,
   "id": "3a909487",
   "metadata": {},
   "outputs": [
    {
     "data": {
      "text/plain": [
       "'C:\\\\Users\\\\Delaney'"
      ]
     },
     "execution_count": 2,
     "metadata": {},
     "output_type": "execute_result"
    }
   ],
   "source": [
    "pwd"
   ]
  },
  {
   "cell_type": "code",
   "execution_count": 3,
   "id": "ead42922",
   "metadata": {
    "scrolled": true
   },
   "outputs": [
    {
     "data": {
      "text/html": [
       "<div>\n",
       "<style scoped>\n",
       "    .dataframe tbody tr th:only-of-type {\n",
       "        vertical-align: middle;\n",
       "    }\n",
       "\n",
       "    .dataframe tbody tr th {\n",
       "        vertical-align: top;\n",
       "    }\n",
       "\n",
       "    .dataframe thead th {\n",
       "        text-align: right;\n",
       "    }\n",
       "</style>\n",
       "<table border=\"1\" class=\"dataframe\">\n",
       "  <thead>\n",
       "    <tr style=\"text-align: right;\">\n",
       "      <th></th>\n",
       "      <th>SampleID</th>\n",
       "      <th>Date</th>\n",
       "      <th>Time</th>\n",
       "      <th>Site_Information</th>\n",
       "      <th>Site_Location</th>\n",
       "      <th>Temp _C</th>\n",
       "      <th>EC</th>\n",
       "      <th>NOx_mgL</th>\n",
       "      <th>PO4_mgL</th>\n",
       "      <th>NH4</th>\n",
       "      <th>Notes</th>\n",
       "      <th>Key</th>\n",
       "      <th>Dam Location</th>\n",
       "      <th>Unnamed: 13</th>\n",
       "    </tr>\n",
       "  </thead>\n",
       "  <tbody>\n",
       "    <tr>\n",
       "      <th>0</th>\n",
       "      <td>UM</td>\n",
       "      <td>2/24/2023</td>\n",
       "      <td>10:44</td>\n",
       "      <td>Main Channel</td>\n",
       "      <td>Upper</td>\n",
       "      <td>4.3</td>\n",
       "      <td>171.3</td>\n",
       "      <td>0.037</td>\n",
       "      <td>0.017</td>\n",
       "      <td>0.013</td>\n",
       "      <td>NaN</td>\n",
       "      <td>NaN</td>\n",
       "      <td>NaN</td>\n",
       "      <td>NaN</td>\n",
       "    </tr>\n",
       "    <tr>\n",
       "      <th>1</th>\n",
       "      <td>US</td>\n",
       "      <td>2/24/2023</td>\n",
       "      <td>10:38</td>\n",
       "      <td>Side Channel</td>\n",
       "      <td>Upper</td>\n",
       "      <td>5.7</td>\n",
       "      <td>158.2</td>\n",
       "      <td>0.039</td>\n",
       "      <td>0.019</td>\n",
       "      <td>0.022</td>\n",
       "      <td>EC probe dropped in water, reads in mS units n...</td>\n",
       "      <td>NaN</td>\n",
       "      <td>NaN</td>\n",
       "      <td>NaN</td>\n",
       "    </tr>\n",
       "    <tr>\n",
       "      <th>2</th>\n",
       "      <td>UC</td>\n",
       "      <td>2/24/2023</td>\n",
       "      <td>10:36</td>\n",
       "      <td>Below Confluence</td>\n",
       "      <td>Upper</td>\n",
       "      <td>1.3</td>\n",
       "      <td>150.8</td>\n",
       "      <td>0.037</td>\n",
       "      <td>0.019</td>\n",
       "      <td>0.014</td>\n",
       "      <td>NaN</td>\n",
       "      <td>NaN</td>\n",
       "      <td>NaN</td>\n",
       "      <td>NaN</td>\n",
       "    </tr>\n",
       "    <tr>\n",
       "      <th>3</th>\n",
       "      <td>UP1</td>\n",
       "      <td>2/24/2023</td>\n",
       "      <td>10:43</td>\n",
       "      <td>Pool</td>\n",
       "      <td>Upper</td>\n",
       "      <td>4.7</td>\n",
       "      <td>171.3</td>\n",
       "      <td>0.038</td>\n",
       "      <td>0.018</td>\n",
       "      <td>0.017</td>\n",
       "      <td>Frozen pool, 2 m from left bank</td>\n",
       "      <td>NaN</td>\n",
       "      <td>NaN</td>\n",
       "      <td>NaN</td>\n",
       "    </tr>\n",
       "    <tr>\n",
       "      <th>4</th>\n",
       "      <td>UP2</td>\n",
       "      <td>2/24/2023</td>\n",
       "      <td>10:44</td>\n",
       "      <td>Pool</td>\n",
       "      <td>Upper</td>\n",
       "      <td>4.5</td>\n",
       "      <td>171.3</td>\n",
       "      <td>0.037</td>\n",
       "      <td>0.018</td>\n",
       "      <td>0.014</td>\n",
       "      <td>3 m from left bank</td>\n",
       "      <td>NaN</td>\n",
       "      <td>NaN</td>\n",
       "      <td>NaN</td>\n",
       "    </tr>\n",
       "    <tr>\n",
       "      <th>5</th>\n",
       "      <td>UP3</td>\n",
       "      <td>2/24/2023</td>\n",
       "      <td>10:44</td>\n",
       "      <td>Pool</td>\n",
       "      <td>Upper</td>\n",
       "      <td>5.3</td>\n",
       "      <td>183.5</td>\n",
       "      <td>0.037</td>\n",
       "      <td>0.018</td>\n",
       "      <td>0.017</td>\n",
       "      <td>4 m from left bank</td>\n",
       "      <td>NaN</td>\n",
       "      <td>NaN</td>\n",
       "      <td>NaN</td>\n",
       "    </tr>\n",
       "    <tr>\n",
       "      <th>6</th>\n",
       "      <td>UM</td>\n",
       "      <td>3/3/2023</td>\n",
       "      <td>10:20</td>\n",
       "      <td>Main Channel</td>\n",
       "      <td>Upper</td>\n",
       "      <td>0.8</td>\n",
       "      <td>160.2</td>\n",
       "      <td>0.040</td>\n",
       "      <td>0.018</td>\n",
       "      <td>0.014</td>\n",
       "      <td>NaN</td>\n",
       "      <td>NaN</td>\n",
       "      <td>NaN</td>\n",
       "      <td>NaN</td>\n",
       "    </tr>\n",
       "    <tr>\n",
       "      <th>7</th>\n",
       "      <td>US</td>\n",
       "      <td>3/3/2023</td>\n",
       "      <td>10:26</td>\n",
       "      <td>Side Channel</td>\n",
       "      <td>Upper</td>\n",
       "      <td>0.8</td>\n",
       "      <td>160.3</td>\n",
       "      <td>0.040</td>\n",
       "      <td>0.016</td>\n",
       "      <td>0.014</td>\n",
       "      <td>NaN</td>\n",
       "      <td>NaN</td>\n",
       "      <td>NaN</td>\n",
       "      <td>NaN</td>\n",
       "    </tr>\n",
       "    <tr>\n",
       "      <th>8</th>\n",
       "      <td>UC</td>\n",
       "      <td>3/3/2023</td>\n",
       "      <td>10:14</td>\n",
       "      <td>Below Confluence</td>\n",
       "      <td>Upper</td>\n",
       "      <td>0.7</td>\n",
       "      <td>161.2</td>\n",
       "      <td>0.039</td>\n",
       "      <td>0.015</td>\n",
       "      <td>0.010</td>\n",
       "      <td>NaN</td>\n",
       "      <td>NaN</td>\n",
       "      <td>NaN</td>\n",
       "      <td>NaN</td>\n",
       "    </tr>\n",
       "    <tr>\n",
       "      <th>9</th>\n",
       "      <td>UP1</td>\n",
       "      <td>3/3/2023</td>\n",
       "      <td>10:37</td>\n",
       "      <td>Pool</td>\n",
       "      <td>Upper</td>\n",
       "      <td>0.8</td>\n",
       "      <td>160.8</td>\n",
       "      <td>0.038</td>\n",
       "      <td>0.017</td>\n",
       "      <td>0.015</td>\n",
       "      <td>1.1m from left bank (facing downstream)</td>\n",
       "      <td>NaN</td>\n",
       "      <td>NaN</td>\n",
       "      <td>NaN</td>\n",
       "    </tr>\n",
       "    <tr>\n",
       "      <th>10</th>\n",
       "      <td>UP2</td>\n",
       "      <td>3/3/2023</td>\n",
       "      <td>10:40</td>\n",
       "      <td>Pool</td>\n",
       "      <td>Upper</td>\n",
       "      <td>1.0</td>\n",
       "      <td>159.8</td>\n",
       "      <td>0.037</td>\n",
       "      <td>0.018</td>\n",
       "      <td>0.012</td>\n",
       "      <td>2.2m from left bank (facing downstream)</td>\n",
       "      <td>NaN</td>\n",
       "      <td>NaN</td>\n",
       "      <td>NaN</td>\n",
       "    </tr>\n",
       "    <tr>\n",
       "      <th>11</th>\n",
       "      <td>UP3</td>\n",
       "      <td>3/3/2023</td>\n",
       "      <td>10:46</td>\n",
       "      <td>Pool</td>\n",
       "      <td>Upper</td>\n",
       "      <td>1.0</td>\n",
       "      <td>159.2</td>\n",
       "      <td>0.036</td>\n",
       "      <td>0.019</td>\n",
       "      <td>0.014</td>\n",
       "      <td>3.3m from left bank (facing downstream)</td>\n",
       "      <td>NaN</td>\n",
       "      <td>NaN</td>\n",
       "      <td>NaN</td>\n",
       "    </tr>\n",
       "    <tr>\n",
       "      <th>12</th>\n",
       "      <td>UC</td>\n",
       "      <td>3/10/2023</td>\n",
       "      <td>10:11</td>\n",
       "      <td>Below Confluence</td>\n",
       "      <td>Upper</td>\n",
       "      <td>1.5</td>\n",
       "      <td>154.1</td>\n",
       "      <td>0.039</td>\n",
       "      <td>0.022</td>\n",
       "      <td>0.016</td>\n",
       "      <td>NaN</td>\n",
       "      <td>NaN</td>\n",
       "      <td>NaN</td>\n",
       "      <td>NaN</td>\n",
       "    </tr>\n",
       "    <tr>\n",
       "      <th>13</th>\n",
       "      <td>UM</td>\n",
       "      <td>3/10/2023</td>\n",
       "      <td>10:14</td>\n",
       "      <td>Main Channel</td>\n",
       "      <td>Upper</td>\n",
       "      <td>1.5</td>\n",
       "      <td>153.9</td>\n",
       "      <td>0.039</td>\n",
       "      <td>0.022</td>\n",
       "      <td>0.015</td>\n",
       "      <td>NaN</td>\n",
       "      <td>NaN</td>\n",
       "      <td>NaN</td>\n",
       "      <td>NaN</td>\n",
       "    </tr>\n",
       "    <tr>\n",
       "      <th>14</th>\n",
       "      <td>US</td>\n",
       "      <td>3/10/2023</td>\n",
       "      <td>10:17</td>\n",
       "      <td>Side Channel</td>\n",
       "      <td>Upper</td>\n",
       "      <td>1.5</td>\n",
       "      <td>153.3</td>\n",
       "      <td>0.038</td>\n",
       "      <td>0.022</td>\n",
       "      <td>0.016</td>\n",
       "      <td>NaN</td>\n",
       "      <td>NaN</td>\n",
       "      <td>NaN</td>\n",
       "      <td>NaN</td>\n",
       "    </tr>\n",
       "    <tr>\n",
       "      <th>15</th>\n",
       "      <td>UP1</td>\n",
       "      <td>3/10/2023</td>\n",
       "      <td>10:24</td>\n",
       "      <td>Pool</td>\n",
       "      <td>Upper</td>\n",
       "      <td>1.5</td>\n",
       "      <td>154.0</td>\n",
       "      <td>0.039</td>\n",
       "      <td>0.021</td>\n",
       "      <td>0.013</td>\n",
       "      <td>1m from left bank</td>\n",
       "      <td>NaN</td>\n",
       "      <td>NaN</td>\n",
       "      <td>NaN</td>\n",
       "    </tr>\n",
       "    <tr>\n",
       "      <th>16</th>\n",
       "      <td>UP2</td>\n",
       "      <td>3/10/2023</td>\n",
       "      <td>10:30</td>\n",
       "      <td>Pool</td>\n",
       "      <td>Upper</td>\n",
       "      <td>1.5</td>\n",
       "      <td>153.9</td>\n",
       "      <td>0.043</td>\n",
       "      <td>0.021</td>\n",
       "      <td>0.014</td>\n",
       "      <td>3m from left bank</td>\n",
       "      <td>NaN</td>\n",
       "      <td>NaN</td>\n",
       "      <td>NaN</td>\n",
       "    </tr>\n",
       "    <tr>\n",
       "      <th>17</th>\n",
       "      <td>UP3</td>\n",
       "      <td>3/10/2023</td>\n",
       "      <td>10:33</td>\n",
       "      <td>Pool</td>\n",
       "      <td>Upper</td>\n",
       "      <td>1.5</td>\n",
       "      <td>154.0</td>\n",
       "      <td>0.038</td>\n",
       "      <td>0.021</td>\n",
       "      <td>0.014</td>\n",
       "      <td>5.5m from left bank</td>\n",
       "      <td>NaN</td>\n",
       "      <td>NaN</td>\n",
       "      <td>NaN</td>\n",
       "    </tr>\n",
       "    <tr>\n",
       "      <th>18</th>\n",
       "      <td>LM</td>\n",
       "      <td>2/24/2023</td>\n",
       "      <td>10:23</td>\n",
       "      <td>Main Channel</td>\n",
       "      <td>Lower</td>\n",
       "      <td>3.8</td>\n",
       "      <td>151.7</td>\n",
       "      <td>0.033</td>\n",
       "      <td>0.016</td>\n",
       "      <td>0.013</td>\n",
       "      <td>NaN</td>\n",
       "      <td>EC = Electrical Conductance</td>\n",
       "      <td>Upper</td>\n",
       "      <td>43.700441, -116.156866</td>\n",
       "    </tr>\n",
       "    <tr>\n",
       "      <th>19</th>\n",
       "      <td>LS</td>\n",
       "      <td>2/24/2023</td>\n",
       "      <td>10:20</td>\n",
       "      <td>Side Channel</td>\n",
       "      <td>Lower</td>\n",
       "      <td>3.5</td>\n",
       "      <td>149.6</td>\n",
       "      <td>0.032</td>\n",
       "      <td>0.016</td>\n",
       "      <td>0.012</td>\n",
       "      <td>NaN</td>\n",
       "      <td>NO3 = nitrate</td>\n",
       "      <td>Lower</td>\n",
       "      <td>43.699607, -116.157978</td>\n",
       "    </tr>\n",
       "    <tr>\n",
       "      <th>20</th>\n",
       "      <td>LC</td>\n",
       "      <td>2/24/2023</td>\n",
       "      <td>10:16</td>\n",
       "      <td>Below Confluence</td>\n",
       "      <td>Lower</td>\n",
       "      <td>7.2</td>\n",
       "      <td>131.5</td>\n",
       "      <td>0.032</td>\n",
       "      <td>0.017</td>\n",
       "      <td>0.014</td>\n",
       "      <td>Possible temp outlier?</td>\n",
       "      <td>PO4 = phosphate</td>\n",
       "      <td>NaN</td>\n",
       "      <td>NaN</td>\n",
       "    </tr>\n",
       "    <tr>\n",
       "      <th>21</th>\n",
       "      <td>LP1</td>\n",
       "      <td>2/24/2023</td>\n",
       "      <td>10:23</td>\n",
       "      <td>Pool</td>\n",
       "      <td>Lower</td>\n",
       "      <td>1.5</td>\n",
       "      <td>151.7</td>\n",
       "      <td>0.032</td>\n",
       "      <td>0.017</td>\n",
       "      <td>0.013</td>\n",
       "      <td>Angela breaks ice with her feet, 80 cm from le...</td>\n",
       "      <td>NO2 = nitrite</td>\n",
       "      <td>NaN</td>\n",
       "      <td>NaN</td>\n",
       "    </tr>\n",
       "    <tr>\n",
       "      <th>22</th>\n",
       "      <td>LP2</td>\n",
       "      <td>2/24/2023</td>\n",
       "      <td>10:24</td>\n",
       "      <td>Pool</td>\n",
       "      <td>Lower</td>\n",
       "      <td>1.2</td>\n",
       "      <td>151.7</td>\n",
       "      <td>0.033</td>\n",
       "      <td>0.018</td>\n",
       "      <td>0.012</td>\n",
       "      <td>225 cm from left bank</td>\n",
       "      <td>NA = not applicable</td>\n",
       "      <td>NaN</td>\n",
       "      <td>NaN</td>\n",
       "    </tr>\n",
       "    <tr>\n",
       "      <th>23</th>\n",
       "      <td>LP3</td>\n",
       "      <td>2/24/2023</td>\n",
       "      <td>10:24</td>\n",
       "      <td>Pool</td>\n",
       "      <td>Lower</td>\n",
       "      <td>1.0</td>\n",
       "      <td>151.7</td>\n",
       "      <td>0.032</td>\n",
       "      <td>0.018</td>\n",
       "      <td>0.015</td>\n",
       "      <td>290 cm from left bank</td>\n",
       "      <td>NaN</td>\n",
       "      <td>NaN</td>\n",
       "      <td>NaN</td>\n",
       "    </tr>\n",
       "    <tr>\n",
       "      <th>24</th>\n",
       "      <td>LM</td>\n",
       "      <td>3/3/2023</td>\n",
       "      <td>9:43</td>\n",
       "      <td>Main Channel</td>\n",
       "      <td>Lower</td>\n",
       "      <td>0.6</td>\n",
       "      <td>163.3</td>\n",
       "      <td>0.037</td>\n",
       "      <td>0.017</td>\n",
       "      <td>0.011</td>\n",
       "      <td>NaN</td>\n",
       "      <td>NaN</td>\n",
       "      <td>NaN</td>\n",
       "      <td>NaN</td>\n",
       "    </tr>\n",
       "    <tr>\n",
       "      <th>25</th>\n",
       "      <td>LMM</td>\n",
       "      <td>3/3/2023</td>\n",
       "      <td>9:37</td>\n",
       "      <td>Side Channel</td>\n",
       "      <td>Lower</td>\n",
       "      <td>0.8</td>\n",
       "      <td>163.2</td>\n",
       "      <td>0.038</td>\n",
       "      <td>0.017</td>\n",
       "      <td>0.011</td>\n",
       "      <td>LS was dry on this date. A second sample was t...</td>\n",
       "      <td>NaN</td>\n",
       "      <td>NaN</td>\n",
       "      <td>NaN</td>\n",
       "    </tr>\n",
       "    <tr>\n",
       "      <th>26</th>\n",
       "      <td>LC</td>\n",
       "      <td>3/3/2023</td>\n",
       "      <td>9:18</td>\n",
       "      <td>Below Confluence</td>\n",
       "      <td>Lower</td>\n",
       "      <td>1.1</td>\n",
       "      <td>163.0</td>\n",
       "      <td>0.035</td>\n",
       "      <td>0.022</td>\n",
       "      <td>0.012</td>\n",
       "      <td>4ft above flagging, right above small pool at ...</td>\n",
       "      <td>NaN</td>\n",
       "      <td>NaN</td>\n",
       "      <td>NaN</td>\n",
       "    </tr>\n",
       "    <tr>\n",
       "      <th>27</th>\n",
       "      <td>LP1</td>\n",
       "      <td>3/3/2023</td>\n",
       "      <td>9:57</td>\n",
       "      <td>Pool</td>\n",
       "      <td>Lower</td>\n",
       "      <td>0.7</td>\n",
       "      <td>161.6</td>\n",
       "      <td>0.036</td>\n",
       "      <td>0.018</td>\n",
       "      <td>0.021</td>\n",
       "      <td>1 m from left bank (facing downstream) signfic...</td>\n",
       "      <td>NaN</td>\n",
       "      <td>NaN</td>\n",
       "      <td>NaN</td>\n",
       "    </tr>\n",
       "    <tr>\n",
       "      <th>28</th>\n",
       "      <td>LP2</td>\n",
       "      <td>3/3/2023</td>\n",
       "      <td>10:00</td>\n",
       "      <td>Pool</td>\n",
       "      <td>Lower</td>\n",
       "      <td>0.7</td>\n",
       "      <td>161.5</td>\n",
       "      <td>0.037</td>\n",
       "      <td>0.016</td>\n",
       "      <td>0.012</td>\n",
       "      <td>2m from left bank (facing downstream)  signfic...</td>\n",
       "      <td>NaN</td>\n",
       "      <td>NaN</td>\n",
       "      <td>NaN</td>\n",
       "    </tr>\n",
       "    <tr>\n",
       "      <th>29</th>\n",
       "      <td>LP3</td>\n",
       "      <td>3/3/2023</td>\n",
       "      <td>10:03</td>\n",
       "      <td>Pool</td>\n",
       "      <td>Lower</td>\n",
       "      <td>0.6</td>\n",
       "      <td>161.7</td>\n",
       "      <td>0.037</td>\n",
       "      <td>0.016</td>\n",
       "      <td>0.020</td>\n",
       "      <td>3m from left bank (facing downstream)  signfic...</td>\n",
       "      <td>NaN</td>\n",
       "      <td>NaN</td>\n",
       "      <td>NaN</td>\n",
       "    </tr>\n",
       "    <tr>\n",
       "      <th>30</th>\n",
       "      <td>LS</td>\n",
       "      <td>3/10/2023</td>\n",
       "      <td>9:30</td>\n",
       "      <td>Side Channel</td>\n",
       "      <td>Lower</td>\n",
       "      <td>1.5</td>\n",
       "      <td>154.9</td>\n",
       "      <td>0.036</td>\n",
       "      <td>0.021</td>\n",
       "      <td>0.018</td>\n",
       "      <td>NaN</td>\n",
       "      <td>NaN</td>\n",
       "      <td>NaN</td>\n",
       "      <td>NaN</td>\n",
       "    </tr>\n",
       "    <tr>\n",
       "      <th>31</th>\n",
       "      <td>LM</td>\n",
       "      <td>3/10/2023</td>\n",
       "      <td>9:34</td>\n",
       "      <td>Main Channel</td>\n",
       "      <td>Lower</td>\n",
       "      <td>1.3</td>\n",
       "      <td>154.5</td>\n",
       "      <td>0.034</td>\n",
       "      <td>0.019</td>\n",
       "      <td>0.017</td>\n",
       "      <td>NaN</td>\n",
       "      <td>NaN</td>\n",
       "      <td>NaN</td>\n",
       "      <td>NaN</td>\n",
       "    </tr>\n",
       "    <tr>\n",
       "      <th>32</th>\n",
       "      <td>LC</td>\n",
       "      <td>3/10/2023</td>\n",
       "      <td>9:24</td>\n",
       "      <td>Below Confluence</td>\n",
       "      <td>Lower</td>\n",
       "      <td>2.2</td>\n",
       "      <td>156.1</td>\n",
       "      <td>0.032</td>\n",
       "      <td>0.020</td>\n",
       "      <td>0.017</td>\n",
       "      <td>Temperature may not have equilibriated</td>\n",
       "      <td>NaN</td>\n",
       "      <td>NaN</td>\n",
       "      <td>NaN</td>\n",
       "    </tr>\n",
       "    <tr>\n",
       "      <th>33</th>\n",
       "      <td>LP1</td>\n",
       "      <td>3/10/2023</td>\n",
       "      <td>9:41</td>\n",
       "      <td>Pool</td>\n",
       "      <td>Lower</td>\n",
       "      <td>1.3</td>\n",
       "      <td>153.8</td>\n",
       "      <td>0.039</td>\n",
       "      <td>0.024</td>\n",
       "      <td>0.022</td>\n",
       "      <td>0.55 m from left bank</td>\n",
       "      <td>NaN</td>\n",
       "      <td>NaN</td>\n",
       "      <td>NaN</td>\n",
       "    </tr>\n",
       "    <tr>\n",
       "      <th>34</th>\n",
       "      <td>LP2</td>\n",
       "      <td>3/10/2023</td>\n",
       "      <td>10:41</td>\n",
       "      <td>Pool</td>\n",
       "      <td>Lower</td>\n",
       "      <td>1.3</td>\n",
       "      <td>154.4</td>\n",
       "      <td>0.037</td>\n",
       "      <td>0.020</td>\n",
       "      <td>0.018</td>\n",
       "      <td>1.7m from left bank</td>\n",
       "      <td>NaN</td>\n",
       "      <td>NaN</td>\n",
       "      <td>NaN</td>\n",
       "    </tr>\n",
       "    <tr>\n",
       "      <th>35</th>\n",
       "      <td>LP3</td>\n",
       "      <td>3/10/2023</td>\n",
       "      <td>11:41</td>\n",
       "      <td>Pool</td>\n",
       "      <td>Lower</td>\n",
       "      <td>1.3</td>\n",
       "      <td>154.4</td>\n",
       "      <td>0.037</td>\n",
       "      <td>0.019</td>\n",
       "      <td>0.018</td>\n",
       "      <td>2.75m from left bank</td>\n",
       "      <td>NaN</td>\n",
       "      <td>NaN</td>\n",
       "      <td>NaN</td>\n",
       "    </tr>\n",
       "  </tbody>\n",
       "</table>\n",
       "</div>"
      ],
      "text/plain": [
       "   SampleID       Date   Time  Site_Information Site_Location  Temp _C     EC  \\\n",
       "0        UM  2/24/2023  10:44      Main Channel         Upper      4.3  171.3   \n",
       "1        US  2/24/2023  10:38      Side Channel         Upper      5.7  158.2   \n",
       "2        UC  2/24/2023  10:36  Below Confluence         Upper      1.3  150.8   \n",
       "3       UP1  2/24/2023  10:43              Pool         Upper      4.7  171.3   \n",
       "4       UP2  2/24/2023  10:44              Pool         Upper      4.5  171.3   \n",
       "5       UP3  2/24/2023  10:44              Pool         Upper      5.3  183.5   \n",
       "6        UM   3/3/2023  10:20      Main Channel         Upper      0.8  160.2   \n",
       "7        US   3/3/2023  10:26      Side Channel         Upper      0.8  160.3   \n",
       "8        UC   3/3/2023  10:14  Below Confluence         Upper      0.7  161.2   \n",
       "9       UP1   3/3/2023  10:37              Pool         Upper      0.8  160.8   \n",
       "10      UP2   3/3/2023  10:40              Pool         Upper      1.0  159.8   \n",
       "11      UP3   3/3/2023  10:46              Pool         Upper      1.0  159.2   \n",
       "12       UC  3/10/2023  10:11  Below Confluence         Upper      1.5  154.1   \n",
       "13       UM  3/10/2023  10:14      Main Channel         Upper      1.5  153.9   \n",
       "14       US  3/10/2023  10:17      Side Channel         Upper      1.5  153.3   \n",
       "15      UP1  3/10/2023  10:24              Pool         Upper      1.5  154.0   \n",
       "16      UP2  3/10/2023  10:30              Pool         Upper      1.5  153.9   \n",
       "17      UP3  3/10/2023  10:33              Pool         Upper      1.5  154.0   \n",
       "18       LM  2/24/2023  10:23      Main Channel         Lower      3.8  151.7   \n",
       "19       LS  2/24/2023  10:20      Side Channel         Lower      3.5  149.6   \n",
       "20       LC  2/24/2023  10:16  Below Confluence         Lower      7.2  131.5   \n",
       "21      LP1  2/24/2023  10:23              Pool         Lower      1.5  151.7   \n",
       "22      LP2  2/24/2023  10:24              Pool         Lower      1.2  151.7   \n",
       "23      LP3  2/24/2023  10:24              Pool         Lower      1.0  151.7   \n",
       "24       LM   3/3/2023   9:43      Main Channel         Lower      0.6  163.3   \n",
       "25      LMM   3/3/2023   9:37      Side Channel         Lower      0.8  163.2   \n",
       "26       LC   3/3/2023   9:18  Below Confluence         Lower      1.1  163.0   \n",
       "27      LP1   3/3/2023   9:57              Pool         Lower      0.7  161.6   \n",
       "28      LP2   3/3/2023  10:00              Pool         Lower      0.7  161.5   \n",
       "29      LP3   3/3/2023  10:03              Pool         Lower      0.6  161.7   \n",
       "30       LS  3/10/2023   9:30      Side Channel         Lower      1.5  154.9   \n",
       "31       LM  3/10/2023   9:34      Main Channel         Lower      1.3  154.5   \n",
       "32       LC  3/10/2023   9:24  Below Confluence         Lower      2.2  156.1   \n",
       "33      LP1  3/10/2023   9:41              Pool         Lower      1.3  153.8   \n",
       "34      LP2  3/10/2023  10:41              Pool         Lower      1.3  154.4   \n",
       "35      LP3  3/10/2023  11:41              Pool         Lower      1.3  154.4   \n",
       "\n",
       "    NOx_mgL  PO4_mgL    NH4  \\\n",
       "0     0.037    0.017  0.013   \n",
       "1     0.039    0.019  0.022   \n",
       "2     0.037    0.019  0.014   \n",
       "3     0.038    0.018  0.017   \n",
       "4     0.037    0.018  0.014   \n",
       "5     0.037    0.018  0.017   \n",
       "6     0.040    0.018  0.014   \n",
       "7     0.040    0.016  0.014   \n",
       "8     0.039    0.015  0.010   \n",
       "9     0.038    0.017  0.015   \n",
       "10    0.037    0.018  0.012   \n",
       "11    0.036    0.019  0.014   \n",
       "12    0.039    0.022  0.016   \n",
       "13    0.039    0.022  0.015   \n",
       "14    0.038    0.022  0.016   \n",
       "15    0.039    0.021  0.013   \n",
       "16    0.043    0.021  0.014   \n",
       "17    0.038    0.021  0.014   \n",
       "18    0.033    0.016  0.013   \n",
       "19    0.032    0.016  0.012   \n",
       "20    0.032    0.017  0.014   \n",
       "21    0.032    0.017  0.013   \n",
       "22    0.033    0.018  0.012   \n",
       "23    0.032    0.018  0.015   \n",
       "24    0.037    0.017  0.011   \n",
       "25    0.038    0.017  0.011   \n",
       "26    0.035    0.022  0.012   \n",
       "27    0.036    0.018  0.021   \n",
       "28    0.037    0.016  0.012   \n",
       "29    0.037    0.016  0.020   \n",
       "30    0.036    0.021  0.018   \n",
       "31    0.034    0.019  0.017   \n",
       "32    0.032    0.020  0.017   \n",
       "33    0.039    0.024  0.022   \n",
       "34    0.037    0.020  0.018   \n",
       "35    0.037    0.019  0.018   \n",
       "\n",
       "                                                Notes  \\\n",
       "0                                                 NaN   \n",
       "1   EC probe dropped in water, reads in mS units n...   \n",
       "2                                                 NaN   \n",
       "3                     Frozen pool, 2 m from left bank   \n",
       "4                                  3 m from left bank   \n",
       "5                                  4 m from left bank   \n",
       "6                                                 NaN   \n",
       "7                                                 NaN   \n",
       "8                                                 NaN   \n",
       "9             1.1m from left bank (facing downstream)   \n",
       "10            2.2m from left bank (facing downstream)   \n",
       "11            3.3m from left bank (facing downstream)   \n",
       "12                                                NaN   \n",
       "13                                                NaN   \n",
       "14                                                NaN   \n",
       "15                                 1m from left bank    \n",
       "16                                  3m from left bank   \n",
       "17                                5.5m from left bank   \n",
       "18                                                NaN   \n",
       "19                                                NaN   \n",
       "20                             Possible temp outlier?   \n",
       "21  Angela breaks ice with her feet, 80 cm from le...   \n",
       "22                              225 cm from left bank   \n",
       "23                              290 cm from left bank   \n",
       "24                                                NaN   \n",
       "25  LS was dry on this date. A second sample was t...   \n",
       "26  4ft above flagging, right above small pool at ...   \n",
       "27  1 m from left bank (facing downstream) signfic...   \n",
       "28  2m from left bank (facing downstream)  signfic...   \n",
       "29  3m from left bank (facing downstream)  signfic...   \n",
       "30                                                NaN   \n",
       "31                                                NaN   \n",
       "32             Temperature may not have equilibriated   \n",
       "33                             0.55 m from left bank    \n",
       "34                               1.7m from left bank    \n",
       "35                              2.75m from left bank    \n",
       "\n",
       "                            Key Dam Location             Unnamed: 13  \n",
       "0                           NaN          NaN                     NaN  \n",
       "1                           NaN          NaN                     NaN  \n",
       "2                           NaN          NaN                     NaN  \n",
       "3                           NaN          NaN                     NaN  \n",
       "4                           NaN          NaN                     NaN  \n",
       "5                           NaN          NaN                     NaN  \n",
       "6                           NaN          NaN                     NaN  \n",
       "7                           NaN          NaN                     NaN  \n",
       "8                           NaN          NaN                     NaN  \n",
       "9                           NaN          NaN                     NaN  \n",
       "10                          NaN          NaN                     NaN  \n",
       "11                          NaN          NaN                     NaN  \n",
       "12                          NaN          NaN                     NaN  \n",
       "13                          NaN          NaN                     NaN  \n",
       "14                          NaN          NaN                     NaN  \n",
       "15                          NaN          NaN                     NaN  \n",
       "16                          NaN          NaN                     NaN  \n",
       "17                          NaN          NaN                     NaN  \n",
       "18  EC = Electrical Conductance        Upper  43.700441, -116.156866  \n",
       "19                NO3 = nitrate        Lower  43.699607, -116.157978  \n",
       "20              PO4 = phosphate          NaN                     NaN  \n",
       "21                NO2 = nitrite          NaN                     NaN  \n",
       "22          NA = not applicable          NaN                     NaN  \n",
       "23                          NaN          NaN                     NaN  \n",
       "24                          NaN          NaN                     NaN  \n",
       "25                          NaN          NaN                     NaN  \n",
       "26                          NaN          NaN                     NaN  \n",
       "27                          NaN          NaN                     NaN  \n",
       "28                          NaN          NaN                     NaN  \n",
       "29                          NaN          NaN                     NaN  \n",
       "30                          NaN          NaN                     NaN  \n",
       "31                          NaN          NaN                     NaN  \n",
       "32                          NaN          NaN                     NaN  \n",
       "33                          NaN          NaN                     NaN  \n",
       "34                          NaN          NaN                     NaN  \n",
       "35                          NaN          NaN                     NaN  "
      ]
     },
     "execution_count": 3,
     "metadata": {},
     "output_type": "execute_result"
    }
   ],
   "source": [
    "#load csv data using pandas\n",
    "df = pd.read_csv('C:/Users/Delaney/Documents/Beaver Meadows Data Template.csv')\n",
    "df"
   ]
  },
  {
   "cell_type": "code",
   "execution_count": 4,
   "id": "e131ff1f",
   "metadata": {},
   "outputs": [],
   "source": [
    "# filter by upper and lower dam\n",
    "upper = df[df['Site_Location'] == 'Upper']\n",
    "lower = df[df['Site_Location'] == 'Lower']\n",
    "#filter by the pool, side channel, below confluence, and main channel\n",
    "Upper_Below_Con = upper[upper['Site_Information'] == 'Below Confluence']\n",
    "Upper_Main_Chan = upper[upper['Site_Information'] == 'Main Channel']\n",
    "Upper_Pool = upper[upper['Site_Information'] == 'Pool']\n",
    "Upper_Side_Chan = upper[upper['Site_Information'] == 'Side Channel']\n",
    "\n",
    "Lower_Below_Con = lower[lower['Site_Information'] == 'Below Confluence']\n",
    "Lower_Main_Chan = lower[lower['Site_Information'] == 'Main Channel']\n",
    "Lower_Pool = lower[lower['Site_Information'] == 'Pool']\n",
    "Lower_Side_Chan = lower[lower['Site_Information'] == 'Side Channel']"
   ]
  },
  {
   "cell_type": "code",
   "execution_count": 5,
   "id": "d84c293e",
   "metadata": {},
   "outputs": [],
   "source": [
    "#upper pool, side channel, and main channel with Temp_C, EC, PO4_mgL, NOx_mgL, and NH4\n",
    "\n",
    "#upper features with temp\n",
    "Upper_Temp_Below_Con = Upper_Below_Con[['Temp _C']]\n",
    "Upper_Temp_Main_Chan = Upper_Main_Chan[['Temp _C']]\n",
    "Upper_Temp_Side_Chan = Upper_Side_Chan[['Temp _C']]\n",
    "Upper_Temp_Pool = Upper_Pool[['Temp _C']]\n",
    "\n",
    "#upper features and EC\n",
    "Upper_EC_Below_Con = Upper_Below_Con[['EC']]\n",
    "Upper_EC_Main_Chan = Upper_Main_Chan[['EC']]\n",
    "Upper_EC_Side_Chan = Upper_Side_Chan[['EC']]\n",
    "Upper_EC_Pool = Upper_Pool[['EC']]\n",
    "\n",
    "#upper features and PO4_mgL\n",
    "Upper_PO4_Below_Con = Upper_Below_Con[['PO4_mgL']]\n",
    "Upper_PO4_Main_Chan = Upper_Main_Chan[['PO4_mgL']]\n",
    "Upper_PO4_Side_Chan = Upper_Side_Chan[['PO4_mgL']]\n",
    "Upper_PO4_Pool = Upper_Pool[['PO4_mgL']]\n",
    "\n",
    "#upper features and NOx_mgL\n",
    "Upper_NOx_Below_Con = Upper_Below_Con[['NOx_mgL']]\n",
    "Upper_NOx_Main_Chan = Upper_Main_Chan[['NOx_mgL']]\n",
    "Upper_NOx_Side_Chan = Upper_Side_Chan[['NOx_mgL']]\n",
    "Upper_NOx_Pool = Upper_Pool[['NOx_mgL']]\n",
    "\n",
    "#upper features and NH4\n",
    "Upper_NH4_Below_Con = Upper_Below_Con[['NH4']]\n",
    "Upper_NH4_Main_Chan = Upper_Main_Chan[['NH4']]\n",
    "Upper_NH4_Side_Chan = Upper_Side_Chan[['NH4']]\n",
    "Upper_NH4_Pool = Upper_Pool[['NH4']]\n"
   ]
  },
  {
   "cell_type": "code",
   "execution_count": 6,
   "id": "e2ddd653",
   "metadata": {},
   "outputs": [],
   "source": [
    "#lower pool, side channel, and main channel with Temp_C, EC, PO4_mgL, NOx_mgL, and NH4\n",
    "#lower features with temp\n",
    "Lower_Temp_Below_Con = Lower_Below_Con[['Temp _C']]\n",
    "Lower_Temp_Main_Chan = Lower_Main_Chan[['Temp _C']]\n",
    "Lower_Temp_Side_Chan = Lower_Side_Chan[['Temp _C']]\n",
    "Lower_Temp_Pool = Lower_Pool[['Temp _C']]\n",
    "\n",
    "#lower features and EC\n",
    "Lower_EC_Below_Con = Lower_Below_Con[['EC']]\n",
    "Lower_EC_Main_Chan = Lower_Main_Chan[['EC']]\n",
    "Lower_EC_Side_Chan = Lower_Side_Chan[['EC']]\n",
    "Lower_EC_Pool = Lower_Pool[['EC']]\n",
    "\n",
    "#lower features and PO4_mgL\n",
    "Lower_PO4_Below_Con = Lower_Below_Con[['PO4_mgL']]\n",
    "Lower_PO4_Main_Chan = Lower_Main_Chan[['PO4_mgL']]\n",
    "Lower_PO4_Side_Chan = Lower_Side_Chan[['PO4_mgL']]\n",
    "Lower_PO4_Pool = Lower_Pool[['PO4_mgL']]\n",
    "\n",
    "#lower features and NOx_mgL\n",
    "Lower_NOx_Below_Con = Lower_Below_Con[['NOx_mgL']]\n",
    "Lower_NOx_Main_Chan = Lower_Main_Chan[['NOx_mgL']]\n",
    "Lower_NOx_Side_Chan = Lower_Side_Chan[['NOx_mgL']]\n",
    "Lower_NOx_Pool = Lower_Pool[['NOx_mgL']]\n",
    "\n",
    "#lower features and NH4\n",
    "Lower_NH4_Below_Con = Lower_Below_Con[['NH4']]\n",
    "Lower_NH4_Main_Chan = Lower_Main_Chan[['NH4']]\n",
    "Lower_NH4_Side_Chan = Lower_Side_Chan[['NH4']]\n",
    "Lower_NH4_Pool = Lower_Pool[['NH4']]\n"
   ]
  },
  {
   "cell_type": "code",
   "execution_count": 7,
   "id": "e90eaa36",
   "metadata": {},
   "outputs": [
    {
     "data": {
      "text/plain": [
       "Ttest_indResult(statistic=array([-0.40089186]), pvalue=array([0.70899097]))"
      ]
     },
     "execution_count": 7,
     "metadata": {},
     "output_type": "execute_result"
    }
   ],
   "source": [
    "#run independent ttest for upper and lower feature and measurement\n",
    "stats.ttest_ind(Upper_PO4_Below_Con,\n",
    "               Lower_PO4_Below_Con)"
   ]
  },
  {
   "cell_type": "code",
   "execution_count": 8,
   "id": "115f6037",
   "metadata": {},
   "outputs": [
    {
     "data": {
      "text/plain": [
       "Ttest_indResult(statistic=array([4.43760157]), pvalue=array([0.011355]))"
      ]
     },
     "execution_count": 8,
     "metadata": {},
     "output_type": "execute_result"
    }
   ],
   "source": [
    "stats.ttest_ind(Upper_NOx_Below_Con,\n",
    "               Lower_NOx_Below_Con)"
   ]
  },
  {
   "cell_type": "code",
   "execution_count": 9,
   "id": "dc49a9c2",
   "metadata": {},
   "outputs": [
    {
     "data": {
      "text/plain": [
       "Ttest_indResult(statistic=array([-0.43759497]), pvalue=array([0.68427069]))"
      ]
     },
     "execution_count": 9,
     "metadata": {},
     "output_type": "execute_result"
    }
   ],
   "source": [
    "stats.ttest_ind(Upper_NH4_Below_Con,\n",
    "               Lower_NH4_Below_Con)"
   ]
  },
  {
   "cell_type": "code",
   "execution_count": 10,
   "id": "d308a3f1",
   "metadata": {},
   "outputs": [
    {
     "data": {
      "text/plain": [
       "Ttest_indResult(statistic=array([-1.23301366]), pvalue=array([0.28507964]))"
      ]
     },
     "execution_count": 10,
     "metadata": {},
     "output_type": "execute_result"
    }
   ],
   "source": [
    "stats.ttest_ind(Upper_Temp_Below_Con,\n",
    "               Lower_Temp_Below_Con)"
   ]
  },
  {
   "cell_type": "code",
   "execution_count": 11,
   "id": "6bd5af3e",
   "metadata": {},
   "outputs": [
    {
     "data": {
      "text/plain": [
       "Ttest_indResult(statistic=array([0.51460097]), pvalue=array([0.63395993]))"
      ]
     },
     "execution_count": 11,
     "metadata": {},
     "output_type": "execute_result"
    }
   ],
   "source": [
    "stats.ttest_ind(Upper_EC_Below_Con,\n",
    "               Lower_EC_Below_Con)"
   ]
  },
  {
   "cell_type": "code",
   "execution_count": 12,
   "id": "c11ca160",
   "metadata": {},
   "outputs": [
    {
     "data": {
      "text/plain": [
       "Ttest_indResult(statistic=array([0.94491118]), pvalue=array([0.39820793]))"
      ]
     },
     "execution_count": 12,
     "metadata": {},
     "output_type": "execute_result"
    }
   ],
   "source": [
    "stats.ttest_ind(Upper_PO4_Main_Chan,\n",
    "               Lower_PO4_Main_Chan)"
   ]
  },
  {
   "cell_type": "code",
   "execution_count": 13,
   "id": "57b1f607",
   "metadata": {},
   "outputs": [
    {
     "data": {
      "text/plain": [
       "Ttest_indResult(statistic=array([2.68328157]), pvalue=array([0.05504061]))"
      ]
     },
     "execution_count": 13,
     "metadata": {},
     "output_type": "execute_result"
    }
   ],
   "source": [
    "stats.ttest_ind(Upper_NOx_Main_Chan,\n",
    "               Lower_NOx_Main_Chan)"
   ]
  },
  {
   "cell_type": "code",
   "execution_count": 14,
   "id": "499f5340",
   "metadata": {},
   "outputs": [
    {
     "data": {
      "text/plain": [
       "Ttest_indResult(statistic=array([0.1796053]), pvalue=array([0.86619369]))"
      ]
     },
     "execution_count": 14,
     "metadata": {},
     "output_type": "execute_result"
    }
   ],
   "source": [
    "stats.ttest_ind(Upper_NH4_Main_Chan,\n",
    "               Lower_NH4_Main_Chan)"
   ]
  },
  {
   "cell_type": "code",
   "execution_count": 15,
   "id": "5373f1d4",
   "metadata": {},
   "outputs": [
    {
     "data": {
      "text/plain": [
       "Ttest_indResult(statistic=array([0.20768002]), pvalue=array([0.84562392]))"
      ]
     },
     "execution_count": 15,
     "metadata": {},
     "output_type": "execute_result"
    }
   ],
   "source": [
    "stats.ttest_ind(Upper_Temp_Main_Chan,\n",
    "               Lower_Temp_Main_Chan)"
   ]
  },
  {
   "cell_type": "code",
   "execution_count": 16,
   "id": "b02de057",
   "metadata": {},
   "outputs": [
    {
     "data": {
      "text/plain": [
       "Ttest_indResult(statistic=array([0.85883235]), pvalue=array([0.43885313]))"
      ]
     },
     "execution_count": 16,
     "metadata": {},
     "output_type": "execute_result"
    }
   ],
   "source": [
    "stats.ttest_ind(Upper_EC_Main_Chan,\n",
    "               Lower_EC_Main_Chan)"
   ]
  },
  {
   "cell_type": "code",
   "execution_count": 17,
   "id": "7a732858",
   "metadata": {},
   "outputs": [
    {
     "data": {
      "text/plain": [
       "Ttest_indResult(statistic=array([0.4330127]), pvalue=array([0.68733187]))"
      ]
     },
     "execution_count": 17,
     "metadata": {},
     "output_type": "execute_result"
    }
   ],
   "source": [
    "stats.ttest_ind(Upper_PO4_Side_Chan,\n",
    "               Lower_PO4_Side_Chan)"
   ]
  },
  {
   "cell_type": "code",
   "execution_count": 18,
   "id": "8497b74d",
   "metadata": {},
   "outputs": [
    {
     "data": {
      "text/plain": [
       "Ttest_indResult(statistic=array([1.97565832]), pvalue=array([0.1193934]))"
      ]
     },
     "execution_count": 18,
     "metadata": {},
     "output_type": "execute_result"
    }
   ],
   "source": [
    "stats.ttest_ind(Upper_NOx_Side_Chan,\n",
    "               Lower_NOx_Side_Chan)"
   ]
  },
  {
   "cell_type": "code",
   "execution_count": 19,
   "id": "1148b2b6",
   "metadata": {},
   "outputs": [
    {
     "data": {
      "text/plain": [
       "Ttest_indResult(statistic=array([1.12857619]), pvalue=array([0.32218037]))"
      ]
     },
     "execution_count": 19,
     "metadata": {},
     "output_type": "execute_result"
    }
   ],
   "source": [
    "stats.ttest_ind(Upper_NH4_Side_Chan,\n",
    "               Lower_NH4_Side_Chan)"
   ]
  },
  {
   "cell_type": "code",
   "execution_count": 20,
   "id": "e06cdd05",
   "metadata": {},
   "outputs": [
    {
     "data": {
      "text/plain": [
       "Ttest_indResult(statistic=array([0.42370417]), pvalue=array([0.69357272]))"
      ]
     },
     "execution_count": 20,
     "metadata": {},
     "output_type": "execute_result"
    }
   ],
   "source": [
    "stats.ttest_ind(Upper_Temp_Side_Chan,\n",
    "               Lower_Temp_Side_Chan)"
   ]
  },
  {
   "cell_type": "code",
   "execution_count": 21,
   "id": "53e8c2ca",
   "metadata": {},
   "outputs": [
    {
     "data": {
      "text/plain": [
       "Ttest_indResult(statistic=array([0.30586796]), pvalue=array([0.77496309]))"
      ]
     },
     "execution_count": 21,
     "metadata": {},
     "output_type": "execute_result"
    }
   ],
   "source": [
    "stats.ttest_ind(Upper_EC_Side_Chan,\n",
    "               Lower_EC_Side_Chan)"
   ]
  },
  {
   "cell_type": "code",
   "execution_count": 22,
   "id": "4ecb16c6",
   "metadata": {},
   "outputs": [
    {
     "data": {
      "text/plain": [
       "Ttest_indResult(statistic=array([0.57073015]), pvalue=array([0.57611126]))"
      ]
     },
     "execution_count": 22,
     "metadata": {},
     "output_type": "execute_result"
    }
   ],
   "source": [
    "stats.ttest_ind(Upper_PO4_Pool,\n",
    "               Lower_PO4_Pool)"
   ]
  },
  {
   "cell_type": "code",
   "execution_count": 23,
   "id": "17be6450",
   "metadata": {},
   "outputs": [
    {
     "data": {
      "text/plain": [
       "Ttest_indResult(statistic=array([2.3504902]), pvalue=array([0.03190478]))"
      ]
     },
     "execution_count": 23,
     "metadata": {},
     "output_type": "execute_result"
    }
   ],
   "source": [
    "stats.ttest_ind(Upper_NOx_Pool,\n",
    "               Lower_NOx_Pool)"
   ]
  },
  {
   "cell_type": "code",
   "execution_count": 24,
   "id": "5de0e5b4",
   "metadata": {},
   "outputs": [
    {
     "data": {
      "text/plain": [
       "Ttest_indResult(statistic=array([-1.65119038]), pvalue=array([0.11818761]))"
      ]
     },
     "execution_count": 24,
     "metadata": {},
     "output_type": "execute_result"
    }
   ],
   "source": [
    "stats.ttest_ind(Upper_NH4_Pool,\n",
    "               Lower_NH4_Pool)"
   ]
  },
  {
   "cell_type": "code",
   "execution_count": 25,
   "id": "7fc2de92",
   "metadata": {},
   "outputs": [
    {
     "data": {
      "text/plain": [
       "Ttest_indResult(statistic=array([2.17857143]), pvalue=array([0.04466151]))"
      ]
     },
     "execution_count": 25,
     "metadata": {},
     "output_type": "execute_result"
    }
   ],
   "source": [
    "stats.ttest_ind(Upper_Temp_Pool,\n",
    "               Lower_Temp_Pool)"
   ]
  },
  {
   "cell_type": "code",
   "execution_count": 26,
   "id": "fcf9aee9",
   "metadata": {},
   "outputs": [
    {
     "data": {
      "text/plain": [
       "Ttest_indResult(statistic=array([1.95512925]), pvalue=array([0.06826712]))"
      ]
     },
     "execution_count": 26,
     "metadata": {},
     "output_type": "execute_result"
    }
   ],
   "source": [
    "stats.ttest_ind(Upper_EC_Pool,\n",
    "               Lower_EC_Pool)"
   ]
  }
 ],
 "metadata": {
  "kernelspec": {
   "display_name": "Python 3 (ipykernel)",
   "language": "python",
   "name": "python3"
  },
  "language_info": {
   "codemirror_mode": {
    "name": "ipython",
    "version": 3
   },
   "file_extension": ".py",
   "mimetype": "text/x-python",
   "name": "python",
   "nbconvert_exporter": "python",
   "pygments_lexer": "ipython3",
   "version": "3.9.12"
  }
 },
 "nbformat": 4,
 "nbformat_minor": 5
}
